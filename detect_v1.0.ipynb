{
 "cells": [
  {
   "cell_type": "code",
   "execution_count": 1,
   "id": "0292b4ac",
   "metadata": {},
   "outputs": [
    {
     "data": {
      "text/plain": [
       "'2.7.1+cpu'"
      ]
     },
     "execution_count": 1,
     "metadata": {},
     "output_type": "execute_result"
    }
   ],
   "source": [
    "import torch\n",
    "\n",
    "torch.__version__"
   ]
  },
  {
   "cell_type": "markdown",
   "id": "16ffef27",
   "metadata": {},
   "source": [
    "# Version 0.1"
   ]
  },
  {
   "cell_type": "markdown",
   "id": "dcbd46f7",
   "metadata": {},
   "source": [
    "## 从Colab中下载best.pt文件"
   ]
  },
  {
   "cell_type": "code",
   "execution_count": null,
   "id": "4113ddbe",
   "metadata": {},
   "outputs": [],
   "source": [
    "from google.colab import files\n",
    "files.download('/content/best.pt')"
   ]
  },
  {
   "cell_type": "markdown",
   "id": "284fb2ed",
   "metadata": {},
   "source": [
    "## 安装依赖"
   ]
  },
  {
   "cell_type": "code",
   "execution_count": null,
   "id": "c3ae3ad2",
   "metadata": {
    "vscode": {
     "languageId": "bat"
    }
   },
   "outputs": [],
   "source": [
    "pip install ultralytics flask #ultralytics支持YOLOv8"
   ]
  },
  {
   "cell_type": "markdown",
   "id": "dfaf0af8",
   "metadata": {},
   "source": [
    "## Flask后端代码\n",
    "\n",
    "保存为 `app.py`"
   ]
  },
  {
   "cell_type": "code",
   "execution_count": null,
   "id": "1d852e67",
   "metadata": {},
   "outputs": [
    {
     "name": "stdout",
     "output_type": "stream",
     "text": [
      "Creating new Ultralytics Settings v0.0.6 file  \n",
      "View Ultralytics Settings with 'yolo settings' or at 'C:\\Users\\Tengyue Wu\\AppData\\Roaming\\Ultralytics\\settings.json'\n",
      "Update Settings with 'yolo settings key=value', i.e. 'yolo settings runs_dir=path/to/dir'. For help see https://docs.ultralytics.com/quickstart/#ultralytics-settings.\n",
      " * Serving Flask app '__main__'\n",
      " * Debug mode: on\n"
     ]
    },
    {
     "name": "stderr",
     "output_type": "stream",
     "text": [
      "WARNING: This is a development server. Do not use it in a production deployment. Use a production WSGI server instead.\n",
      " * Running on http://127.0.0.1:5000\n",
      "Press CTRL+C to quit\n",
      " * Restarting with stat\n"
     ]
    },
    {
     "ename": "SystemExit",
     "evalue": "1",
     "output_type": "error",
     "traceback": [
      "An exception has occurred, use %tb to see the full traceback.\n",
      "\u001b[31mSystemExit\u001b[39m\u001b[31m:\u001b[39m 1\n"
     ]
    },
    {
     "name": "stderr",
     "output_type": "stream",
     "text": [
      "d:\\anaconda3\\envs\\cv311\\Lib\\site-packages\\IPython\\core\\interactiveshell.py:3675: UserWarning: To exit: use 'exit', 'quit', or Ctrl-D.\n",
      "  warn(\"To exit: use 'exit', 'quit', or Ctrl-D.\", stacklevel=1)\n"
     ]
    }
   ],
   "source": [
    "from flask import Flask, request, render_template, send_file\n",
    "import os\n",
    "from ultralytics import YOLO\n",
    "import uuid\n",
    "\n",
    "app = Flask(__name__)\n",
    "\n",
    "# 加载模型\n",
    "model = YOLO(\"best.pt\")  # 把你的模型路径写上\n",
    "\n",
    "# 上传图像目录\n",
    "UPLOAD_FOLDER = 'uploads'\n",
    "RESULT_FOLDER = 'results'\n",
    "os.makedirs(UPLOAD_FOLDER, exist_ok=True)\n",
    "os.makedirs(RESULT_FOLDER, exist_ok=True)\n",
    "\n",
    "@app.route('/', methods=['GET', 'POST'])\n",
    "def upload_file():\n",
    "    if request.method == 'POST':\n",
    "        file = request.files['file']\n",
    "        if file:\n",
    "            filename = str(uuid.uuid4()) + \".jpg\"\n",
    "            filepath = os.path.join(UPLOAD_FOLDER, filename)\n",
    "            file.save(filepath)\n",
    "\n",
    "            # 推理\n",
    "            results = model.predict(filepath, save=True, project=RESULT_FOLDER, name='pred', exist_ok=True)\n",
    "            result_path = results[0].save_dir + \"/\" + filename\n",
    "\n",
    "            return send_file(result_path, mimetype='image/jpeg')\n",
    "\n",
    "    return render_template('index.html')\n",
    "\n",
    "if __name__ == '__main__':\n",
    "    app.run(debug=True)\n"
   ]
  },
  {
   "cell_type": "markdown",
   "id": "1a865eb9",
   "metadata": {},
   "source": [
    "```log\n",
    "Creating new Ultralytics Settings v0.0.6 file  \n",
    "View Ultralytics Settings with 'yolo settings' or at 'C:\\Users\\Tengyue Wu\\AppData\\Roaming\\Ultralytics\\settings.json'\n",
    "Update Settings with 'yolo settings key=value', i.e. 'yolo settings runs_dir=path/to/dir'. For help see https://docs.ultralytics.com/quickstart/#ultralytics-settings.\n",
    " * Serving Flask app '__main__'\n",
    " * Debug mode: on\n",
    "WARNING: This is a development server. Do not use it in a production deployment. Use a production WSGI server instead.\n",
    " * Running on http://127.0.0.1:5000\n",
    "Press CTRL+C to quit\n",
    " * Restarting with stat\n",
    "An exception has occurred, use %tb to see the full traceback.\n",
    "\n",
    "SystemExit: 1\n",
    "d:\\anaconda3\\envs\\cv311\\Lib\\site-packages\\IPython\\core\\interactiveshell.py:3675: UserWarning: To exit: use 'exit', 'quit', or Ctrl-D.\n",
    "  warn(\"To exit: use 'exit', 'quit', or Ctrl-D.\", stacklevel=1)\n",
    "```"
   ]
  },
  {
   "cell_type": "markdown",
   "id": "230292b2",
   "metadata": {},
   "source": [
    "出现这个提示和错误，说明 `Flask` 本身没问题，成功跑起来了；但是由于是在 `Jupyter Notebook / IPython` 里执行了 `app.run()` ，所以 `Python` 的主线程和 `IPython` 的事件循环冲突了，导致 `SystemExit` 。\n",
    "\n",
    "出现这个情况的原因是，当在 `IPython`（例如 `Colab`, `Jupyter Notebook`, `Spyder` 或某些 `IDE` 的交互 `Console`） 中运行 `Flask` 的 `app.run()` 时，`Flask` 会尝试调用 `sys.exit()` 来结束调试模式或者重启进程，这就和交互式环境冲突了。\n",
    "\n",
    "解决办法是，保存为 `app.py` 文件，然后在 `bash` 里运行，这样就完全避开了 `Notebook` 的环境干扰，`Flask` 会正常启动。"
   ]
  },
  {
   "cell_type": "markdown",
   "id": "1e032d00",
   "metadata": {},
   "source": [
    "## HTML页面"
   ]
  },
  {
   "cell_type": "code",
   "execution_count": null,
   "id": "4cb9f899",
   "metadata": {
    "vscode": {
     "languageId": "html"
    }
   },
   "outputs": [],
   "source": [
    "<!doctype html>\n",
    "<html lang=\"en\">\n",
    "  <head>\n",
    "    <title>图像识别上传</title>\n",
    "  </head>\n",
    "  <body>\n",
    "    <h1>上传图片进行识别</h1>\n",
    "    <form method=\"POST\" enctype=\"multipart/form-data\">\n",
    "      <input type=\"file\" name=\"file\" accept=\"image/*\">\n",
    "      <input type=\"submit\" value=\"上传并识别\">\n",
    "    </form>\n",
    "  </body>\n",
    "</html>"
   ]
  },
  {
   "cell_type": "code",
   "execution_count": null,
   "id": "67347a0f",
   "metadata": {
    "vscode": {
     "languageId": "html"
    }
   },
   "outputs": [],
   "source": [
    "<!DOCTYPE html>\n",
    "<html>\n",
    "<head>\n",
    "    <title>YOLOv8 Demo</title>\n",
    "</head>\n",
    "<body>\n",
    "    <h1>Upload an Image</h1>\n",
    "    <form action=\"/\" method=\"post\" enctype=\"multipart/form-data\">\n",
    "        <input type=\"file\" name=\"file\">\n",
    "        <input type=\"submit\" value=\"Upload\">\n",
    "    </form>\n",
    "</body>\n",
    "</html>"
   ]
  },
  {
   "cell_type": "markdown",
   "id": "8b2b4ee4",
   "metadata": {},
   "source": [
    "## 运行应用"
   ]
  },
  {
   "cell_type": "code",
   "execution_count": null,
   "id": "6472aee8",
   "metadata": {
    "vscode": {
     "languageId": "bat"
    }
   },
   "outputs": [],
   "source": [
    "python app.py"
   ]
  },
  {
   "cell_type": "markdown",
   "id": "0f6aa680",
   "metadata": {},
   "source": [
    "浏览器访问： `http://127.0.0.1:5000` ，上传一张图片，就能得到模型推理后的结果图像。"
   ]
  },
  {
   "cell_type": "markdown",
   "id": "90fba279",
   "metadata": {},
   "source": [
    "当运行\n",
    "```bash\n",
    "python app.py\n",
    "```\n",
    "或者\n",
    "```python\n",
    "app.run(debug=True)\n",
    "```\n",
    "Flask 会：\n",
    "\n",
    "* 开启一个开发服务器\n",
    "\n",
    "* 默认监听 http://127.0.0.1:5000\n",
    "\n",
    "关闭时：\n",
    "\n",
    "1. 只关闭浏览器页\n",
    "\n",
    "   * 只是关闭浏览器标签页，并不会自动关闭 Flask 进程。\n",
    "\n",
    "   * Flask 服务还在后台运行，端口依然被占用。\n",
    "\n",
    "2. 正确的关闭方式\n",
    "\n",
    "   * 需要回到运行 Flask 的终端，按 Ctrl + C，这样 Flask 会正常关闭，端口才会彻底释放。\n",
    "\n",
    "若没关闭干净，再次运行Flask会报错：\n",
    "```makefile\n",
    "OSError: [Errno 98] Address already in use\n",
    "```\n",
    "意思是端口还在被占用。\n",
    "\n",
    "端口被占用时：\n",
    "\n",
    "找出哪个进程占用了 5000 端口，然后在安全的情况下杀掉：\n",
    "\n",
    "* Windows：\n",
    "```bash\n",
    "netstat -ano | findstr :5000\n",
    "```\n",
    "然后查看PID，杀掉进程：\n",
    "```bash\n",
    "taskkill /PID 进程号 /F\n",
    "```\n",
    "* Linux/macOS:\n",
    "```bash\n",
    "lsof -i :5000\n",
    "kill -9 进程号\n",
    "```"
   ]
  },
  {
   "cell_type": "markdown",
   "id": "f63a2c44",
   "metadata": {},
   "source": [
    "## 打包整个项目成为 `.exe` 文件"
   ]
  },
  {
   "cell_type": "markdown",
   "id": "66feac4f",
   "metadata": {},
   "source": [
    "### 准备文件结构"
   ]
  },
  {
   "cell_type": "code",
   "execution_count": null,
   "id": "93c55cef",
   "metadata": {
    "vscode": {
     "languageId": "sql"
    }
   },
   "outputs": [],
   "source": [
    "yolo_app/\n",
    "├── app.py\n",
    "├── best.pt\n",
    "├── templates/\n",
    "│   └── index.html"
   ]
  },
  {
   "cell_type": "code",
   "execution_count": null,
   "id": "6f677d0f",
   "metadata": {
    "vscode": {
     "languageId": "sql"
    }
   },
   "outputs": [],
   "source": [
    "your_project/\n",
    "│\n",
    "├── app.py          # 你的 Flask 主程序\n",
    "├── best.pt         # 你的 YOLO 模型文件\n",
    "├── templates/\n",
    "│   └── index.html  # 你的上传页面\n",
    "├── uploads/        # 上传图片保存文件夹\n",
    "├── results/        # 检测结果保存文件夹\n",
    "└── other files ..."
   ]
  },
  {
   "cell_type": "markdown",
   "id": "e8d92324",
   "metadata": {},
   "source": [
    "### 安装pyinstaller"
   ]
  },
  {
   "cell_type": "code",
   "execution_count": null,
   "id": "857513cd",
   "metadata": {
    "vscode": {
     "languageId": "bat"
    }
   },
   "outputs": [],
   "source": [
    "pip install pyinstaller"
   ]
  },
  {
   "cell_type": "markdown",
   "id": "fab4209f",
   "metadata": {},
   "source": [
    "### 使用PyInstaller打包成为EXE"
   ]
  },
  {
   "cell_type": "code",
   "execution_count": null,
   "id": "324a55ea",
   "metadata": {
    "vscode": {
     "languageId": "bat"
    }
   },
   "outputs": [],
   "source": [
    "pyinstaller --onefile --hidden-import torch --add-data \"templates;templates\" --add-data \"best.pt;.\" app.py"
   ]
  },
  {
   "cell_type": "code",
   "execution_count": null,
   "id": "11b75f77",
   "metadata": {
    "vscode": {
     "languageId": "bat"
    }
   },
   "outputs": [],
   "source": [
    "pyinstaller -F --add-data \"templates;templates\" --add-data \"best.pt;.\" app.py"
   ]
  },
  {
   "cell_type": "markdown",
   "id": "3355ebda",
   "metadata": {},
   "source": [
    "上面这个命令的意思是：\n",
    "\n",
    "* `pyinstaller`：调用 `PyInstaller` 这个打包工具。\n",
    "\n",
    "* `-F`：表示打包成单个独立的可执行文件（single file），生成一个 `.exe`。\n",
    "\n",
    "* `app.py`：你要打包的 `Python` 脚本。\n",
    "\n",
    "* `--add-data \"best.pt;.\"` ：\n",
    "\n",
    "    * `best.pt` 是你项目里的模型文件。\n",
    "\n",
    "    * `.;` 这里是“目的路径”，表示把 `best.pt` 放到生成的 `exe` 同目录下。\n",
    "\n",
    "    * 也就是说，打包时把 `best.pt` 文件包含进来，运行时会被解压到临时目录或者 `exe` 旁边，代码用 `resource_path()` 找到它。\n",
    "\n",
    "* `--add-data \"templates;templates\"` ：\n",
    "\n",
    "    * `templates` 是你 `Flask` 项目的模板文件夹。\n",
    "\n",
    "    * 目的路径同名 `templates` 文件夹。\n",
    "\n",
    "    * 这样，`templates` 文件夹也会被打包进去，运行时依然能用 `templates` 路径访问到里面的 `HTML` 文件。"
   ]
  },
  {
   "cell_type": "markdown",
   "id": "b4a28582",
   "metadata": {},
   "source": [
    "#### PyInstaller执行命令涉及到的文件\n",
    "\n",
    "**主要输入**\n",
    "\n",
    "* Python 脚本（ `.py` ）\n",
    "\n",
    "    例如： `app.py`\n",
    "\n",
    "    这是你打包的入口文件。\n",
    "\n",
    "* 依赖库\n",
    "\n",
    "    `PyInstaller` 会自动解析 `import` 的库，并把它们收集到打包结果中。\n",
    "\n",
    "    如果你有额外的非 `Python` 文件（如 `.json`、`.yaml`、图片、模型文件等），需要在命令里用 `--add-data` 明确告诉 `PyInstaller`。\n",
    "\n",
    "#### PyInstaller执行命令后生成的文件和文件夹\n",
    "\n",
    "**`app.spec`**\n",
    "\n",
    "作为配置文件，记录了打包细节（入口、数据、图标等）。可以修改后重复使用。\n",
    "\n",
    "**`build/`**\n",
    "\n",
    "临时构建的文件夹，放置中间产物（分析依赖、解包库、缓存编译等）。\n",
    "\n",
    "**`dist/`**\n",
    "\n",
    "打包结果文件夹。最终可执行文件的位置。如果是 `--onefile`，只有一个 `exe`；如果是默认多文件格式，会有一个同名文件夹和一堆依赖。\n",
    "\n",
    "#### 结果举例\n",
    "\n",
    "* 默认模式（多文件）\n",
    "    \n",
    "    执行\n",
    "    ```bash\n",
    "    pyinstaller app.py\n",
    "    ```\n",
    "    生成\n",
    "    ```bash\n",
    "    .\n",
    "    ├── app.spec         # 配置文件\n",
    "    ├── build/            # 中间文件\n",
    "    │   └── ...\n",
    "    ├── dist/\n",
    "    │   └── app/         # 输出文件夹\n",
    "    │       ├── app.exe  # 可执行文件\n",
    "    │       ├── ...       # 依赖库和DLL\n",
    "    └── app.py           # 源代码\n",
    "    ```\n",
    "    `PyInstaller` 默认是多文件模式（`--onedir`），意思是：\n",
    "\n",
    "  * 可执行文件和所有依赖（`Python` 解释器、库、动态链接库 `.dll` 或 `.so`、资源文件等）都分开放到一个文件夹里。\n",
    "\n",
    "  * 这个文件夹名字通常就是你入口脚本的名字。\n",
    "\n",
    "  * 例子：\n",
    "    ```css\n",
    "    .\n",
    "    ├── main.py\n",
    "    ├── main.spec\n",
    "    ├── build/\n",
    "    │   └── ...\n",
    "    └── dist/\n",
    "        └── main/          ← 这个文件夹名字跟入口文件名一样\n",
    "            ├── main.exe   ← 可执行文件\n",
    "            ├── python39.dll\n",
    "            ├── library.zip\n",
    "            ├── vcruntime140.dll\n",
    "            ├── 其他依赖的 DLL、PYC、库文件...\n",
    "    ```\n",
    "  * 特点：\n",
    "    | 项目                   |说明                                                         |\n",
    "    | :-------------------: | :---------------------------------------------------------: |\n",
    "    | `main.exe`            | 这是真正的启动程序                                            |\n",
    "    | 其他 `DLL` / `zip` / 文件  | `Python` 运行时、标准库、第三方库，`PyInstaller` 把它们单独拷贝出来 |\n",
    "    | 启动时                 | `main.exe` 会动态加载同目录下的库                             |\n",
    "    | 可移植性               | 整个 `main/` 文件夹必须 **完整一起拷贝** 才能运行，缺一不可    |\n",
    "  \n",
    "  * 为什么需要多文件？\n",
    "    * 启动速度快\n",
    "  \n",
    "        （相比 --onefile，不用先解压再运行）\n",
    "\n",
    "    * 排查问题方便\n",
    "        \n",
    "        出错时可以直接看哪些依赖出了问题\n",
    "\n",
    "    * 避免某些杀毒软件对单文件打包的误报\n",
    "\n",
    "* 单文件模式\n",
    "    \n",
    "    执行\n",
    "    ```bash\n",
    "    pyinstaller --onefile app.py\n",
    "    ```\n",
    "    或者\n",
    "    ```bash\n",
    "    pyinstaller -F app.py\n",
    "    ```\n",
    "    两者命令等价，`-F` 就是 `--onefile` 的缩写，都是“单文件模式”。\n",
    "    \n",
    "    生成\n",
    "    ```bash\n",
    "    .\n",
    "    ├── app.spec\n",
    "    ├── build/\n",
    "    │   └── ...\n",
    "    ├── dist/\n",
    "    │   └── app.exe   # 仅一个文件，所有依赖打包进去了\n",
    "    └── app.py\n",
    "    ```\n",
    "  * 为什么需要单文件？\n",
    "\n",
    "    * 需要只分发一个 `.exe`\n",
    "\n",
    "    * 不在乎第一次启动时要解压临时文件"
   ]
  },
  {
   "cell_type": "markdown",
   "id": "69363952",
   "metadata": {},
   "source": [
    "#### spec文件\n",
    "\n",
    "`spec` 文件是 `PyInstaller` 的核心高级用法之一，很多场景下比命令行更灵活。其本质就是一个 `Python` 脚本，它是 `PyInstaller` 的配置文件，它包括：\n",
    "* 打包哪个入口\n",
    "\n",
    "* 加载哪些额外文件\n",
    "\n",
    "* 输出名字是什么\n",
    "\n",
    "* 是单文件还是多文件\n",
    "\n",
    "* 图标、版本信息等等\n",
    "\n",
    "**一个典型示例**\n",
    "\n",
    "假设我的文件结构如下：\n",
    "```css\n",
    "main.py\n",
    "config.yaml\n",
    "icon.ico\n",
    "```\n",
    "我需要：\n",
    "* 打包成单文件\n",
    "\n",
    "* 加上图标\n",
    "\n",
    "* 打包时把 `config.yaml` 一起打进去\n",
    "\n",
    "则下面是对应的 `main.spec` :\n",
    "```python\n",
    "# -*- mode: python ; coding: utf-8 -*-\n",
    "\n",
    "block_cipher = None\n",
    "\n",
    "a = Analysis(\n",
    "    ['main.py'],          # 入口脚本\n",
    "    pathex=[],            # 可以写额外的搜索路径\n",
    "    binaries=[],          # 要打包的二进制文件\n",
    "    datas=[('config.yaml', '.')],\n",
    "    hiddenimports=[],     # 隐式导入的库\n",
    "    hookspath=[],         # 自定义 hook 路径\n",
    "    runtime_hooks=[],\n",
    "    excludes=[],\n",
    "    win_no_prefer_redirects=False,\n",
    "    win_private_assemblies=False,\n",
    "    cipher=block_cipher,\n",
    ")\n",
    "\n",
    "pyz = PYZ(a.pure, a.zipped_data, cipher=block_cipher)\n",
    "\n",
    "exe = EXE(\n",
    "    pyz,\n",
    "    a.scripts,\n",
    "    [],\n",
    "    exclude_binaries=True,\n",
    "    name='main',          # 输出 exe 的名字\n",
    "    debug=False,\n",
    "    bootloader_ignore_signals=False,\n",
    "    strip=False,\n",
    "    upx=True,\n",
    "    console=True,         # True: 有黑框；False: 没黑框\n",
    "    icon='icon.ico'       # 图标\n",
    ")\n",
    "\n",
    "coll = COLLECT(\n",
    "    exe,\n",
    "    a.binaries,\n",
    "    a.zipfiles,\n",
    "    a.datas,\n",
    "    strip=False,\n",
    "    upx=True,\n",
    "    upx_exclude=[],\n",
    "    name='main'\n",
    ")\n",
    "```\n",
    "**使用方法**\n",
    "\n",
    "1. 生成一个模板\n",
    "    \n",
    "    ```bash\n",
    "    pyinstaller main.py\n",
    "    ```\n",
    "    它会生成 `main.spec` 文件（用于记录这次的配置）。同时使用默认参数打包 `main.py` 文件（默认：多文件模式、有控制台、无图标）。\n",
    "\n",
    "2. 打开 `.spec` 修改内容\n",
    "   \n",
    "    根据你的需求：\n",
    "    * 改 datas\n",
    "\n",
    "    * 改 name\n",
    "\n",
    "    * 改 icon\n",
    "\n",
    "    * 改 console 选项等\n",
    "\n",
    "    以后如果再次执行 `pyinstaller main.py`，`PyInstaller` 不会用你修改过的 `main.spec`，而是重新根据命令行参数走一遍。\n",
    "\n",
    "3. 用 `.spec` 重新打包\n",
    "\n",
    "    ```bash\n",
    "    pyinstaller main.spec\n",
    "    ```\n",
    "    `PyInstaller` 就会完全按照 `.spec` 里的设置来执行，而不是用命令行参数（会被忽略）。\n",
    "\n",
    "**小技巧**\n",
    "\n",
    "* ✅ datas=[('文件', '目标文件夹')]\n",
    "\n",
    "    格式是：\n",
    "    ```python\n",
    "    datas = [\n",
    "        ('config.yaml', '.'), \n",
    "        ('data/*.json', 'data')\n",
    "    ]\n",
    "    ```\n",
    "* ✅ `console=False`\n",
    "\n",
    "    如果你是 `GUI` 程序，不想要黑框，就把 `console=True` 改成 `False`。\n",
    "\n",
    "* ✅ 多个文件入口\n",
    "    \n",
    "    如果是多入口（多 `exe`），可以写多个 `EXE`，最后放到 `COLLECT` 里。\n"
   ]
  },
  {
   "cell_type": "markdown",
   "id": "cdae9931",
   "metadata": {},
   "source": [
    "### 生成的文件"
   ]
  },
  {
   "cell_type": "code",
   "execution_count": null,
   "id": "f2d69c52",
   "metadata": {
    "vscode": {
     "languageId": "sql"
    }
   },
   "outputs": [],
   "source": [
    "dist/\n",
    "└── app.exe"
   ]
  },
  {
   "cell_type": "markdown",
   "id": "51b0ab42",
   "metadata": {},
   "source": [
    "### 运行打包后的EXE"
   ]
  },
  {
   "cell_type": "code",
   "execution_count": null,
   "id": "9ce1f356",
   "metadata": {
    "vscode": {
     "languageId": "bat"
    }
   },
   "outputs": [],
   "source": [
    "./dist/app.exe"
   ]
  },
  {
   "cell_type": "markdown",
   "id": "41065fb4",
   "metadata": {
    "vscode": {
     "languageId": "bat"
    }
   },
   "source": [
    "在浏览器中访问 `http://127.0.0.1:5000` 就能上传图片看到检测结果了"
   ]
  },
  {
   "cell_type": "markdown",
   "id": "62cad1a2",
   "metadata": {},
   "source": [
    "# Version 0.2"
   ]
  },
  {
   "cell_type": "markdown",
   "id": "a26c3333",
   "metadata": {},
   "source": [
    "## 优化HTML页面\n",
    "\n",
    "使用简单、好看、功能完整的 `index.html` ，用于上传图片并显示预测结果。"
   ]
  },
  {
   "cell_type": "code",
   "execution_count": null,
   "id": "d7001f25",
   "metadata": {
    "vscode": {
     "languageId": "html"
    }
   },
   "outputs": [],
   "source": [
    "<!DOCTYPE html>\n",
    "<html lang=\"en\">\n",
    "<head>\n",
    "    <meta charset=\"UTF-8\">\n",
    "    <title>YOLOv8 检测页面</title>\n",
    "    <style>\n",
    "        body {\n",
    "            font-family: Arial, sans-serif;\n",
    "            background: #f2f2f2;\n",
    "            text-align: center;\n",
    "            padding: 50px;\n",
    "        }\n",
    "        h1 {\n",
    "            color: #333;\n",
    "        }\n",
    "        form {\n",
    "            margin: 20px auto;\n",
    "            padding: 20px;\n",
    "            background: #fff;\n",
    "            border-radius: 8px;\n",
    "            width: 400px;\n",
    "            box-shadow: 0 2px 8px rgba(0,0,0,0.1);\n",
    "        }\n",
    "        input[type=\"file\"] {\n",
    "            margin: 20px 0;\n",
    "        }\n",
    "        input[type=\"submit\"] {\n",
    "            background: #4CAF50;\n",
    "            color: white;\n",
    "            border: none;\n",
    "            padding: 10px 20px;\n",
    "            border-radius: 4px;\n",
    "            cursor: pointer;\n",
    "        }\n",
    "        input[type=\"submit\"]:hover {\n",
    "            background: #45a049;\n",
    "        }\n",
    "        img {\n",
    "            margin-top: 30px;\n",
    "            max-width: 80%;\n",
    "            border-radius: 8px;\n",
    "            box-shadow: 0 2px 8px rgba(0,0,0,0.1);\n",
    "        }\n",
    "    </style>\n",
    "</head>\n",
    "<body>\n",
    "    <h1>YOLOv8 图片检测</h1>\n",
    "    <form method=\"POST\" enctype=\"multipart/form-data\">\n",
    "        <label for=\"file\">选择一张图片：</label><br>\n",
    "        <input type=\"file\" name=\"file\" id=\"file\" accept=\"image/*\" required><br>\n",
    "        <input type=\"submit\" value=\"上传并检测\">\n",
    "    </form>\n",
    "\n",
    "    {% if request.method == 'POST' %}\n",
    "        <h2>检测结果：</h2>\n",
    "        <img src=\"{{ url_for('static', filename='result.jpg') }}\" alt=\"检测结果\">\n",
    "    {% endif %}\n",
    "</body>\n",
    "</html>"
   ]
  },
  {
   "cell_type": "code",
   "execution_count": null,
   "id": "2f29ff3b",
   "metadata": {
    "vscode": {
     "languageId": "html"
    }
   },
   "outputs": [],
   "source": [
    "<!DOCTYPE html>\n",
    "<html lang=\"en\">\n",
    "<head>\n",
    "    <meta charset=\"UTF-8\">\n",
    "    <title>YOLOv8 图片检测</title>\n",
    "    <style>\n",
    "        body {\n",
    "            font-family: Arial, sans-serif;\n",
    "            background: #f2f2f2;\n",
    "            text-align: center;\n",
    "            padding: 50px;\n",
    "        }\n",
    "        h1 {\n",
    "            color: #333;\n",
    "        }\n",
    "        form {\n",
    "            display: inline-block;\n",
    "            margin-top: 20px;\n",
    "            padding: 30px 40px;\n",
    "            background: #fff;\n",
    "            border-radius: 10px;\n",
    "            box-shadow: 0 2px 10px rgba(0,0,0,0.1);\n",
    "            text-align: center;\n",
    "        }\n",
    "        input[type=\"file\"] {\n",
    "            display: block;\n",
    "            margin: 20px auto;\n",
    "        }\n",
    "        input[type=\"submit\"] {\n",
    "            background: #4CAF50;\n",
    "            color: white;\n",
    "            border: none;\n",
    "            padding: 12px 30px;\n",
    "            border-radius: 4px;\n",
    "            cursor: pointer;\n",
    "            font-size: 16px;\n",
    "        }\n",
    "        input[type=\"submit\"]:hover {\n",
    "            background: #45a049;\n",
    "        }\n",
    "        img {\n",
    "            margin-top: 40px;\n",
    "            max-width: 80%;\n",
    "            border-radius: 8px;\n",
    "            box-shadow: 0 2px 8px rgba(0,0,0,0.1);\n",
    "        }\n",
    "    </style>\n",
    "</head>\n",
    "<body>\n",
    "    <h1>YOLOv8 图片检测</h1>\n",
    "    <form method=\"POST\" enctype=\"multipart/form-data\">\n",
    "        <input type=\"file\" name=\"file\" accept=\"image/*\" required>\n",
    "        <input type=\"submit\" value=\"上传并检测\">\n",
    "    </form>\n",
    "\n",
    "    {% if request.method == 'POST' %}\n",
    "        <h2>检测结果：</h2>\n",
    "        <img src=\"{{ url_for('static', filename='result.jpg') }}\" alt=\"检测结果\">\n",
    "    {% endif %}\n",
    "</body>\n",
    "</html>"
   ]
  },
  {
   "cell_type": "code",
   "execution_count": null,
   "id": "dc338449",
   "metadata": {
    "vscode": {
     "languageId": "html"
    }
   },
   "outputs": [],
   "source": [
    "<!DOCTYPE html>\n",
    "<html lang=\"en\">\n",
    "<head>\n",
    "  <meta charset=\"UTF-8\" />\n",
    "  <title>YOLOv8 图片检测</title>\n",
    "  <style>\n",
    "    body {\n",
    "      font-family: Arial, sans-serif;\n",
    "      background: #f2f2f2;\n",
    "      height: 100vh;\n",
    "      margin: 0;\n",
    "      display: flex;\n",
    "      justify-content: center; /* 水平居中 */\n",
    "      align-items: center;     /* 垂直居中 */\n",
    "      flex-direction: column;\n",
    "    }\n",
    "    h1 {\n",
    "      color: #333;\n",
    "      margin-bottom: 30px;\n",
    "    }\n",
    "    form {\n",
    "      background: white;\n",
    "      padding: 30px 40px;\n",
    "      border-radius: 10px;\n",
    "      box-shadow: 0 2px 10px rgba(0,0,0,0.1);\n",
    "      display: flex;\n",
    "      flex-direction: column;\n",
    "      align-items: center; /* 子元素垂直居中 */\n",
    "      width: 320px;        /* 统一宽度 */\n",
    "    }\n",
    "    input[type=\"file\"] {\n",
    "      width: 100%;         /* 占满form宽度 */\n",
    "      margin-bottom: 20px;\n",
    "      cursor: pointer;\n",
    "    }\n",
    "    input[type=\"submit\"] {\n",
    "      width: 100%;\n",
    "      background: #4CAF50;\n",
    "      color: white;\n",
    "      border: none;\n",
    "      padding: 12px 0;\n",
    "      border-radius: 4px;\n",
    "      font-size: 16px;\n",
    "      cursor: pointer;\n",
    "      transition: background-color 0.3s ease;\n",
    "    }\n",
    "    input[type=\"submit\"]:hover {\n",
    "      background: #45a049;\n",
    "    }\n",
    "  </style>\n",
    "</head>\n",
    "<body>\n",
    "  <h1>YOLOv8 图片检测</h1>\n",
    "  <form method=\"POST\" enctype=\"multipart/form-data\">\n",
    "    <input type=\"file\" name=\"file\" accept=\"image/*\" required />\n",
    "    <input type=\"submit\" value=\"上传并检测\" />\n",
    "  </form>\n",
    "</body>\n",
    "</html>"
   ]
  },
  {
   "cell_type": "code",
   "execution_count": null,
   "id": "f41520de",
   "metadata": {
    "vscode": {
     "languageId": "html"
    }
   },
   "outputs": [],
   "source": [
    "<!DOCTYPE html>\n",
    "<html lang=\"en\">\n",
    "<head>\n",
    "<meta charset=\"UTF-8\" />\n",
    "<title>YOLOv8 图片检测</title>\n",
    "<style>\n",
    "  body {\n",
    "    font-family: Arial, sans-serif;\n",
    "    background: #f2f2f2;\n",
    "    height: 100vh;\n",
    "    margin: 0;\n",
    "    display: flex;\n",
    "    justify-content: center; /* 水平居中 */\n",
    "    align-items: center;     /* 垂直居中 */\n",
    "    flex-direction: column;\n",
    "  }\n",
    "  h1 {\n",
    "    color: #333;\n",
    "    margin-bottom: 30px;\n",
    "  }\n",
    "  form {\n",
    "    background: white;\n",
    "    padding: 30px 40px;\n",
    "    border-radius: 10px;\n",
    "    box-shadow: 0 2px 10px rgba(0,0,0,0.1);\n",
    "    display: flex;\n",
    "    flex-direction: column;\n",
    "    align-items: center;\n",
    "    width: 320px;\n",
    "  }\n",
    "\n",
    "  /* 隐藏真实文件输入框 */\n",
    "  input[type=\"file\"] {\n",
    "    display: none;\n",
    "  }\n",
    "\n",
    "  /* 自定义文件选择按钮 */\n",
    "  .file-label {\n",
    "    width: 100%;\n",
    "    padding: 12px 0;\n",
    "    background: #2196F3;\n",
    "    color: white;\n",
    "    text-align: center;\n",
    "    border-radius: 4px;\n",
    "    font-size: 16px;\n",
    "    cursor: pointer;\n",
    "    margin-bottom: 20px;\n",
    "    user-select: none;\n",
    "    transition: background-color 0.3s ease;\n",
    "  }\n",
    "  .file-label:hover {\n",
    "    background: #1976D2;\n",
    "  }\n",
    "\n",
    "  input[type=\"submit\"] {\n",
    "    width: 100%;\n",
    "    background: #4CAF50;\n",
    "    color: white;\n",
    "    border: none;\n",
    "    padding: 12px 0;\n",
    "    border-radius: 4px;\n",
    "    font-size: 16px;\n",
    "    cursor: pointer;\n",
    "    transition: background-color 0.3s ease;\n",
    "  }\n",
    "  input[type=\"submit\"]:hover {\n",
    "    background: #45a049;\n",
    "  }\n",
    "</style>\n",
    "</head>\n",
    "<body>\n",
    "  <h1>YOLOv8 图片检测</h1>\n",
    "  <form method=\"POST\" enctype=\"multipart/form-data\">\n",
    "    <!-- label绑定file输入 -->\n",
    "    <label for=\"file-upload\" class=\"file-label\">选择文件</label>\n",
    "    <input id=\"file-upload\" type=\"file\" name=\"file\" accept=\"image/*\" required />\n",
    "\n",
    "    <input type=\"submit\" value=\"上传并检测\" />\n",
    "  </form>\n",
    "</body>\n",
    "</html>"
   ]
  },
  {
   "cell_type": "code",
   "execution_count": null,
   "id": "1954d0fc",
   "metadata": {
    "vscode": {
     "languageId": "html"
    }
   },
   "outputs": [],
   "source": [
    "<!DOCTYPE html>\n",
    "<html lang=\"en\">\n",
    "<head>\n",
    "<meta charset=\"UTF-8\" />\n",
    "<title>YOLOv8 图片检测</title>\n",
    "<style>\n",
    "  body {\n",
    "    font-family: Arial, sans-serif;\n",
    "    background: #f2f2f2;\n",
    "    height: 100vh;\n",
    "    margin: 0;\n",
    "    display: flex;\n",
    "    justify-content: center; \n",
    "    align-items: center;    \n",
    "    flex-direction: column;\n",
    "  }\n",
    "  h1 {\n",
    "    color: #333;\n",
    "    margin-bottom: 30px;\n",
    "  }\n",
    "  form {\n",
    "    background: white;\n",
    "    padding: 30px 40px;\n",
    "    border-radius: 10px;\n",
    "    box-shadow: 0 2px 10px rgba(0,0,0,0.1);\n",
    "    display: flex;\n",
    "    flex-direction: column;\n",
    "    align-items: center;\n",
    "    width: 320px;\n",
    "  }\n",
    "\n",
    "  input[type=\"file\"] {\n",
    "    display: none;\n",
    "  }\n",
    "\n",
    "  .file-label {\n",
    "    width: 100%;\n",
    "    padding: 12px 0;\n",
    "    background: #2196F3;\n",
    "    color: white;\n",
    "    text-align: center;\n",
    "    border-radius: 4px;\n",
    "    font-size: 16px;\n",
    "    cursor: pointer;\n",
    "    user-select: none;\n",
    "    transition: background-color 0.3s ease;\n",
    "  }\n",
    "  .file-label:hover {\n",
    "    background: #1976D2;\n",
    "  }\n",
    "\n",
    "  #file-name {\n",
    "    margin-top: 8px;\n",
    "    font-size: 14px;\n",
    "    color: #555;\n",
    "    min-height: 20px;\n",
    "    text-align: center;\n",
    "    word-break: break-all;\n",
    "  }\n",
    "\n",
    "  input[type=\"submit\"] {\n",
    "    width: 100%;\n",
    "    background: #4CAF50;\n",
    "    color: white;\n",
    "    border: none;\n",
    "    padding: 12px 0;\n",
    "    border-radius: 4px;\n",
    "    font-size: 16px;\n",
    "    cursor: pointer;\n",
    "    margin-top: 20px;\n",
    "    transition: background-color 0.3s ease;\n",
    "  }\n",
    "  input[type=\"submit\"]:hover {\n",
    "    background: #45a049;\n",
    "  }\n",
    "</style>\n",
    "</head>\n",
    "<body>\n",
    "  <h1>YOLOv8 图片检测</h1>\n",
    "  <form method=\"POST\" enctype=\"multipart/form-data\">\n",
    "    <label for=\"file-upload\" class=\"file-label\">选择文件</label>\n",
    "    <input id=\"file-upload\" type=\"file\" name=\"file\" accept=\"image/*\" required />\n",
    "    <div id=\"file-name\"></div>\n",
    "    <input type=\"submit\" value=\"上传并检测\" />\n",
    "  </form>\n",
    "\n",
    "  <script>\n",
    "    const fileInput = document.getElementById('file-upload');\n",
    "    const fileNameDiv = document.getElementById('file-name');\n",
    "\n",
    "    fileInput.addEventListener('change', () => {\n",
    "      if (fileInput.files.length > 0) {\n",
    "        fileNameDiv.textContent = fileInput.files[0].name;\n",
    "      } else {\n",
    "        fileNameDiv.textContent = '';\n",
    "      }\n",
    "    });\n",
    "  </script>\n",
    "</body>\n",
    "</html>"
   ]
  },
  {
   "cell_type": "markdown",
   "id": "3ef92e57",
   "metadata": {},
   "source": [
    "# Version 0.3"
   ]
  },
  {
   "cell_type": "markdown",
   "id": "7d9a1e1b",
   "metadata": {},
   "source": [
    "## 使用webbrowser模块\n",
    "\n",
    "可以在 Flask 运行后，自动用 Python 调用浏览器打开对应的 URL\n",
    "\n",
    "将原来的 `if __name__ == '__main__':` 里改成如下代码："
   ]
  },
  {
   "cell_type": "code",
   "execution_count": null,
   "id": "396a6b44",
   "metadata": {},
   "outputs": [],
   "source": [
    "import webbrowser\n",
    "from threading import Timer\n",
    "\n",
    "if __name__ == '__main__':\n",
    "    port = 5000\n",
    "    url = f\"http://127.0.0.1:{port}/\"\n",
    "\n",
    "    # 启动 Flask 服务器的同时，延迟几秒打开浏览器\n",
    "    def open_browser():\n",
    "        webbrowser.open_new(url)\n",
    "\n",
    "    Timer(1, open_browser).start()\n",
    "    app.run(debug=True, port=port)\n"
   ]
  },
  {
   "cell_type": "markdown",
   "id": "94fb46e1",
   "metadata": {},
   "source": [
    "这里：\n",
    "\n",
    "* 用 `threading.Timer` 延迟 1 秒后打开浏览器，确保服务器先启动\n",
    "\n",
    "* 自动打开默认浏览器并访问 Flask 服务地址\n",
    "\n",
    "运行该脚本，程序启动后浏览器会自动弹出并打开你的网页，不用自己复制粘贴URL了。\n",
    "\n",
    "如果用的是别的端口，记得改 `port` 变量对应的端口号。"
   ]
  },
  {
   "cell_type": "markdown",
   "id": "e3848f7f",
   "metadata": {},
   "source": [
    "# Version 0.4\n",
    "\n",
    "一次上传多张图片（该分支未融合）"
   ]
  },
  {
   "cell_type": "markdown",
   "id": "c2494077",
   "metadata": {},
   "source": [
    "## 修改 `input` 为支持多选"
   ]
  },
  {
   "cell_type": "code",
   "execution_count": null,
   "id": "6c0d8cff",
   "metadata": {
    "vscode": {
     "languageId": "html"
    }
   },
   "outputs": [],
   "source": [
    "<input type=\"file\" name=\"file\" id=\"file\" accept=\"image/*\" multiple required>"
   ]
  },
  {
   "cell_type": "markdown",
   "id": "f31445d9",
   "metadata": {},
   "source": [
    "## 修改Flask后端\n",
    "\n",
    "后端要从 `request.files.getlist()` 获取多张图片，然后对每张图片循环保存、推理，最后把所有推理后的结果打包（或只返回第一张结果）。"
   ]
  },
  {
   "cell_type": "code",
   "execution_count": null,
   "id": "82545a47",
   "metadata": {},
   "outputs": [],
   "source": [
    "from flask import Flask, request, render_template, send_file, send_from_directory, redirect, url_for\n",
    "import os\n",
    "from ultralytics import YOLO\n",
    "import uuid\n",
    "import zipfile\n",
    "\n",
    "app = Flask(__name__)\n",
    "\n",
    "# 加载模型\n",
    "model = YOLO(\"best.pt\")\n",
    "\n",
    "# 上传和结果文件夹\n",
    "UPLOAD_FOLDER = 'uploads'\n",
    "RESULT_FOLDER = 'results'\n",
    "os.makedirs(UPLOAD_FOLDER, exist_ok=True)\n",
    "os.makedirs(RESULT_FOLDER, exist_ok=True)\n",
    "\n",
    "@app.route('/', methods=['GET', 'POST'])\n",
    "def upload_file():\n",
    "    if request.method == 'POST':\n",
    "        files = request.files.getlist('file')\n",
    "        saved_files = []\n",
    "\n",
    "        for file in files:\n",
    "            if file:\n",
    "                filename = str(uuid.uuid4()) + \".jpg\"\n",
    "                filepath = os.path.join(UPLOAD_FOLDER, filename)\n",
    "                file.save(filepath)\n",
    "\n",
    "                # 推理\n",
    "                results = model.predict(\n",
    "                    filepath,\n",
    "                    save=True,\n",
    "                    project=RESULT_FOLDER,\n",
    "                    name='pred',\n",
    "                    exist_ok=True,\n",
    "                    conf=0.2,\n",
    "                    show_conf=False,\n",
    "                    line_width=3,\n",
    "                    iou=0.2\n",
    "                )\n",
    "                result_path = os.path.join(results[0].save_dir, filename)\n",
    "                saved_files.append(result_path)\n",
    "\n",
    "        # 如果只上传了一张图片，直接返回该图片\n",
    "        if len(saved_files) == 1:\n",
    "            return send_file(saved_files[0], mimetype='image/jpeg')\n",
    "\n",
    "        # 如果上传了多张图片，打包成 ZIP\n",
    "        zip_filename = f\"{uuid.uuid4()}.zip\"\n",
    "        zip_path = os.path.join(RESULT_FOLDER, zip_filename)\n",
    "        with zipfile.ZipFile(zip_path, 'w') as zipf:\n",
    "            for file_path in saved_files:\n",
    "                arcname = os.path.basename(file_path)\n",
    "                zipf.write(file_path, arcname)\n",
    "\n",
    "        return send_file(zip_path, mimetype='application/zip', as_attachment=True)\n",
    "\n",
    "    return render_template('index.html')\n",
    "\n",
    "if __name__ == '__main__':\n",
    "    import webbrowser\n",
    "    from threading import Timer\n",
    "\n",
    "    port = 5000\n",
    "    url = f\"http://127.0.0.1:{port}/\"\n",
    "\n",
    "    def open_browser():\n",
    "        webbrowser.open_new(url)\n",
    "\n",
    "    Timer(1, open_browser).start()\n",
    "    app.run(debug=True, port=port)"
   ]
  },
  {
   "cell_type": "markdown",
   "id": "998ffaf6",
   "metadata": {},
   "source": [
    "## 前端按钮无需更改\n",
    "\n",
    "前面已经在 HTML 里把 `<input>` 改成 `multiple`，按钮和表单自动就能支持批量上传。"
   ]
  },
  {
   "cell_type": "markdown",
   "id": "44b10202",
   "metadata": {},
   "source": [
    "## 工作流程\n",
    "\n",
    "* 前端选多张图片，点击上传\n",
    "\n",
    "* 后端循环保存每张，逐张推理\n",
    "\n",
    "* 如果只有 1 张，直接返回单张结果\n",
    "\n",
    "* 如果有多张，就打包 ZIP 返回\n",
    "\n",
    "这样就可以用一个页面批量上传，一次性拿回所有结果。"
   ]
  },
  {
   "cell_type": "markdown",
   "id": "cba0f06e",
   "metadata": {},
   "source": [
    "# Version 0.5"
   ]
  },
  {
   "cell_type": "markdown",
   "id": "dc8a8d55",
   "metadata": {},
   "source": [
    "## 读取解压后的路径\n",
    "\n",
    "按照前面的打包命令，运行生成的 `.exe` 文件会报错如下：\n",
    "```log\n",
    "Traceback (most recent call last):\n",
    "  File \"app.py\", line 11, in <module>\n",
    "  File \"ultralytics\\models\\yolo\\model.py\", line 79, in __init__\n",
    "  File \"ultralytics\\engine\\model.py\", line 151, in __init__\n",
    "  File \"ultralytics\\engine\\model.py\", line 295, in _load\n",
    "  File \"ultralytics\\nn\\tasks.py\", line 1548, in attempt_load_one_weight\n",
    "  File \"ultralytics\\nn\\tasks.py\", line 1446, in torch_safe_load\n",
    "  File \"ultralytics\\utils\\patches.py\", line 117, in torch_load\n",
    "  File \"torch\\serialization.py\", line 1479, in load\n",
    "  File \"torch\\serialization.py\", line 759, in _open_file_like\n",
    "  File \"torch\\serialization.py\", line 740, in __init__\n",
    "FileNotFoundError: [Errno 2] No such file or directory: 'best.pt'\n",
    "[PYI-16312:ERROR] Failed to execute script 'app' due to unhandled exception!\n",
    "```\n",
    "这个报错是说打包后的程序找不到 `best.pt` 型文件，导致程序启动时加载模型失败。\n",
    "\n",
    "**原因**\n",
    "\n",
    "* 你的代码里：model = YOLO(\"best.pt\")\n",
    "\n",
    "* 运行时它默认从当前工作目录找 best.pt\n",
    "\n",
    "* 打包成 exe 后，best.pt 不会自动包含进去，也不在 exe 所在目录，导致找不到文件\n",
    "\n",
    "**解决方案**"
   ]
  },
  {
   "cell_type": "markdown",
   "id": "e297f43b",
   "metadata": {},
   "source": [
    "### 在 `PyInstaller` 打包时，添加模型文件（`best.pt`）到 `exe` 里\n",
    "\n",
    "用 `--add-data` 参数，把模型一起打包进去。\n",
    "\n",
    "即用之前的打包命令："
   ]
  },
  {
   "cell_type": "code",
   "execution_count": null,
   "id": "823e8d75",
   "metadata": {
    "vscode": {
     "languageId": "bat"
    }
   },
   "outputs": [],
   "source": [
    "pyinstaller -F --add-data \"templates;templates\" --add-data \"best.pt;.\" app.py"
   ]
  },
  {
   "cell_type": "markdown",
   "id": "3669a1d6",
   "metadata": {},
   "source": [
    "* 注意分号 `;` 是 `Windows` 下分隔符，`Linux/macOS` 下是冒号 `:`\n",
    "\n",
    "* 这样 `templates` 和 `best.pt` 会被放到 `exe` 同目录里"
   ]
  },
  {
   "cell_type": "markdown",
   "id": "62640b38",
   "metadata": {},
   "source": [
    "### 代码中正确读取打包后的资源路径\n",
    "\n",
    "打包后，直接用 `best.pt` 可能找不到，因为打包成 `exe` 时文件被解包到临时目录（如 `sys._MEIPASS` ）。\n",
    "    \n",
    "你需要用下面代码，兼容打包后读取路径："
   ]
  },
  {
   "cell_type": "code",
   "execution_count": null,
   "id": "98831f61",
   "metadata": {},
   "outputs": [],
   "source": [
    "import sys\n",
    "import os\n",
    "\n",
    "def resource_path(relative_path):\n",
    "    \"\"\"获取打包后或未打包时资源的绝对路径\"\"\"\n",
    "    if hasattr(sys, '_MEIPASS'):\n",
    "        base_path = sys._MEIPASS\n",
    "    else:\n",
    "        base_path = os.path.abspath(\".\")\n",
    "\n",
    "    return os.path.join(base_path, relative_path)\n",
    "\n",
    "model_path = resource_path(\"best.pt\")\n",
    "model = YOLO(model_path)"
   ]
  },
  {
   "cell_type": "markdown",
   "id": "555fb2fa",
   "metadata": {},
   "source": [
    "### 重新打包\n",
    "\n",
    "* 确保 `--add-data \"best.pt;.\"` 已添加\n",
    "\n",
    "* 代码中使用上面 `resource_path` 读取模型路径\n",
    "\n",
    "* 重新打包生成 `exe`\n",
    "\n",
    "* 运行 `exe` 时，就能正确加载模型了"
   ]
  },
  {
   "cell_type": "markdown",
   "id": "ad2516ae",
   "metadata": {},
   "source": [
    "# Version 1.0\n",
    "\n",
    "最终测试版本，移植后还是有路径读取问题。"
   ]
  },
  {
   "cell_type": "code",
   "execution_count": null,
   "id": "f1f3c4ad",
   "metadata": {},
   "outputs": [],
   "source": [
    "from flask import Flask, request, render_template, send_file\n",
    "import sys\n",
    "import os\n",
    "from ultralytics import YOLO\n",
    "import uuid\n",
    "import webbrowser\n",
    "from threading import Timer\n",
    "\n",
    "app = Flask(__name__)\n",
    "\n",
    "def resource_path(relative_path):\n",
    "    \"\"\"获取打包后或未打包时资源的绝对路径\"\"\"\n",
    "    if hasattr(sys, '_MEIPASS'):\n",
    "        base_path = sys._MEIPASS\n",
    "    else:\n",
    "        base_path = os.path.abspath(\".\")\n",
    "\n",
    "    return os.path.join(base_path, relative_path)\n",
    "\n",
    "model_path = resource_path(\"best.pt\")\n",
    "model = YOLO(model_path)\n",
    "# 加载模型\n",
    "# model = YOLO(\"best.pt\")\n",
    "\n",
    "# 上传和结果文件夹\n",
    "UPLOAD_FOLDER = 'uploads'\n",
    "RESULT_FOLDER = 'results'\n",
    "os.makedirs(UPLOAD_FOLDER, exist_ok=True)\n",
    "os.makedirs(RESULT_FOLDER, exist_ok=True)\n",
    "\n",
    "\n",
    "@app.route('/', methods=['GET', 'POST'])\n",
    "def upload_file():\n",
    "    if request.method == 'POST':\n",
    "        file = request.files['file']\n",
    "        if file:\n",
    "            filename = f\"{uuid.uuid4()}.jpg\"\n",
    "            filepath = os.path.join(UPLOAD_FOLDER, filename)\n",
    "            file.save(filepath)\n",
    "\n",
    "            # 推理\n",
    "            results = model.predict(\n",
    "                filepath,\n",
    "                iou=0.2,\n",
    "                conf=0.5,\n",
    "                show_labels=False,\n",
    "                show_conf=False,\n",
    "                line_width=3,\n",
    "                nms=True,\n",
    "                save=True,\n",
    "                project=RESULT_FOLDER,\n",
    "                name='pred',\n",
    "                exist_ok=True\n",
    "            )\n",
    "            # 结果文件路径\n",
    "            result_path = os.path.join(results[0].save_dir, filename)\n",
    "\n",
    "            # 用 resource_path 转换绝对路径\n",
    "            result_path = resource_path(result_path)\n",
    "\n",
    "            print(\"Sending file:\", result_path)\n",
    "            print(\"Exists:\", os.path.exists(result_path))\n",
    "\n",
    "            return send_file(result_path, mimetype='image/jpeg')\n",
    "\n",
    "    return render_template('index.html')\n",
    "\n",
    "\n",
    "if __name__ == '__main__':\n",
    "    port = 5000\n",
    "    url = f\"http://127.0.0.1:{port}/\"\n",
    "\n",
    "    def open_browser():\n",
    "        webbrowser.open_new(url)\n",
    "\n",
    "    # 只在主进程打开浏览器\n",
    "    if os.environ.get(\"WERKZEUG_RUN_MAIN\") != \"true\":\n",
    "        Timer(1, open_browser).start()\n",
    "\n",
    "    app.run(debug=True, port=port)\n"
   ]
  },
  {
   "cell_type": "code",
   "execution_count": null,
   "id": "177d3ffc",
   "metadata": {
    "vscode": {
     "languageId": "html"
    }
   },
   "outputs": [],
   "source": [
    "<!DOCTYPE html>\n",
    "<html lang=\"en\">\n",
    "<head>\n",
    "<meta charset=\"UTF-8\" />\n",
    "<title>YOLOv8 图片检测</title>\n",
    "<style>\n",
    "  body {\n",
    "    font-family: Arial, sans-serif;\n",
    "    background: #f2f2f2;\n",
    "    height: 100vh;\n",
    "    margin: 0;\n",
    "    display: flex;\n",
    "    justify-content: center; \n",
    "    align-items: center;    \n",
    "    flex-direction: column;\n",
    "  }\n",
    "  h1 {\n",
    "    color: #333;\n",
    "    margin-bottom: 30px;\n",
    "  }\n",
    "  form {\n",
    "    background: white;\n",
    "    padding: 30px 40px;\n",
    "    border-radius: 10px;\n",
    "    box-shadow: 0 2px 10px rgba(0,0,0,0.1);\n",
    "    display: flex;\n",
    "    flex-direction: column;\n",
    "    align-items: center;\n",
    "    width: 320px;\n",
    "  }\n",
    "\n",
    "  input[type=\"file\"] {\n",
    "    display: none;\n",
    "  }\n",
    "\n",
    "  .file-label {\n",
    "    width: 100%;\n",
    "    padding: 12px 0;\n",
    "    background: #2196F3;\n",
    "    color: white;\n",
    "    text-align: center;\n",
    "    border-radius: 4px;\n",
    "    font-size: 16px;\n",
    "    cursor: pointer;\n",
    "    user-select: none;\n",
    "    transition: background-color 0.3s ease;\n",
    "  }\n",
    "  .file-label:hover {\n",
    "    background: #1976D2;\n",
    "  }\n",
    "\n",
    "  #file-name {\n",
    "    margin-top: 8px;\n",
    "    font-size: 14px;\n",
    "    color: #555;\n",
    "    min-height: 20px;\n",
    "    text-align: center;\n",
    "    word-break: break-all;\n",
    "  }\n",
    "\n",
    "  input[type=\"submit\"] {\n",
    "    width: 100%;\n",
    "    background: #4CAF50;\n",
    "    color: white;\n",
    "    border: none;\n",
    "    padding: 12px 0;\n",
    "    border-radius: 4px;\n",
    "    font-size: 16px;\n",
    "    cursor: pointer;\n",
    "    margin-top: 20px;\n",
    "    transition: background-color 0.3s ease;\n",
    "  }\n",
    "  input[type=\"submit\"]:hover {\n",
    "    background: #45a049;\n",
    "  }\n",
    "</style>\n",
    "</head>\n",
    "<body>\n",
    "  <h1>YOLOv8 图片检测</h1>\n",
    "  <form method=\"POST\" enctype=\"multipart/form-data\">\n",
    "    <label for=\"file-upload\" class=\"file-label\">选择文件</label>\n",
    "    <input id=\"file-upload\" type=\"file\" name=\"file\" accept=\"image/*\" required />\n",
    "    <div id=\"file-name\"></div>\n",
    "    <input type=\"submit\" value=\"上传并检测\" />\n",
    "  </form>\n",
    "\n",
    "  <script>\n",
    "    const fileInput = document.getElementById('file-upload');\n",
    "    const fileNameDiv = document.getElementById('file-name');\n",
    "\n",
    "    fileInput.addEventListener('change', () => {\n",
    "      if (fileInput.files.length > 0) {\n",
    "        fileNameDiv.textContent = fileInput.files[0].name;\n",
    "      } else {\n",
    "        fileNameDiv.textContent = '';\n",
    "      }\n",
    "    });\n",
    "  </script>\n",
    "</body>\n",
    "</html>\n"
   ]
  }
 ],
 "metadata": {
  "kernelspec": {
   "display_name": "cv311",
   "language": "python",
   "name": "python3"
  },
  "language_info": {
   "codemirror_mode": {
    "name": "ipython",
    "version": 3
   },
   "file_extension": ".py",
   "mimetype": "text/x-python",
   "name": "python",
   "nbconvert_exporter": "python",
   "pygments_lexer": "ipython3",
   "version": "3.11.13"
  }
 },
 "nbformat": 4,
 "nbformat_minor": 5
}
